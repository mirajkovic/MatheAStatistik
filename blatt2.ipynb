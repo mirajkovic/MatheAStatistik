{
 "cells": [
  {
   "cell_type": "code",
   "execution_count": 170,
   "metadata": {},
   "outputs": [],
   "source": [
    "\n",
    "Messdaten = [\n",
    "    12.4, 12.5, 12.6, 12.4, 12.6, 12.7, 12.3,\n",
    "    12.6, 12.7, 12.6, 12.5, 12.9, 12.5, 11.9,\n",
    "    12.1, 12.0, 12.1, 12.3, 12.6, 12.4, 12.5,\n",
    "    12.2, 12.4, 11.8, 12.1, 12.6, 12.5, 12.2,\n",
    "    12.7, 12.6, 12.0, 12.3, 12.4, 12.3, 12.3,\n",
    "    12.5, 12.5, 12.7, 12.6, 12.3, 12.2, 12.5,\n",
    "    12.3, 12.4, 12.5, 12.5, 12.2, 12.8, 12.4,\n",
    "    13.0, 12.4, 12.7, 12.4, 12.4, 12.9, 13.1]"
   ]
  },
  {
   "cell_type": "markdown",
   "metadata": {},
   "source": [
    "**Aufgabe 1 Teil a**\n",
    "* Aussehen der Verteilung in einem Histogram hängt von der Anzahl der \"bins\" ab, die gewählt werden \n",
    "* Ändern von __nof_bin__ auf andere Wert macht es dementsprechend ggf. schwieriger eine Normalverteilung zu erkennen \n",
    "* Statistische Tests sind daher besonders hilfreich um eine quantitative Aussage über die Verteilung von Messdaten zu tätigen "
   ]
  },
  {
   "cell_type": "code",
   "execution_count": 189,
   "metadata": {},
   "outputs": [
    {
     "name": "stdout",
     "output_type": "stream",
     "text": [
      "Histogram der Messdaten als abs. Anzahl:\n"
     ]
    },
    {
     "data": {
      "image/png": "[encoded data removed]",
      "text/plain": [
       "<Figure size 432x288 with 1 Axes>"
      ]
     },
     "metadata": {
      "needs_background": "light"
     },
     "output_type": "display_data"
    },
    {
     "name": "stdout",
     "output_type": "stream",
     "text": [
      "Histogram der Messdaten als prozentualer Anteil:\n"
     ]
    },
    {
     "data": {
      "image/png": "[encoded data removed]",
      "text/plain": [
       "<Figure size 432x288 with 1 Axes>"
      ]
     },
     "metadata": {
      "needs_background": "light"
     },
     "output_type": "display_data"
    }
   ],
   "source": [
    "import matplotlib.pyplot as plt \n",
    "import numpy as np\n",
    "\n",
    "nof_bin = 14\n",
    "\n",
    "print(\"Histogram der Messdaten als abs. Anzahl:\")\n",
    "plt.hist(Messdaten, bins = nof_bin, edgecolor = 'black')\n",
    "plt.ylabel('Anzahl')\n",
    "plt.xlabel('Temperatur in ${\\mathrm  {^{\\circ }C}}$')\n",
    "plt.show()\n",
    "\n",
    "print(\"Histogram der Messdaten als prozentualer Anteil:\")\n",
    "Messdaten = np.asfarray(Messdaten)\n",
    "hist, edges = np.histogram(Messdaten, bins = nof_bin)\n",
    "freq = hist / float(hist.sum())\n",
    "width = np.diff(edges) # edges is bins\n",
    "plt.bar(edges[1:], freq, width=width, align=\"edge\", ec=\"k\")\n",
    "plt.ylabel('Anteil')\n",
    "plt.xlabel('Temperatur in ${\\mathrm  {^{\\circ }C}}$')\n",
    "plt.show()\n",
    "\n"
   ]
  },
  {
   "cell_type": "markdown",
   "metadata": {},
   "source": [
    "Statistischer Test: **Shapiro-Wilk Normality Test**<br>\n",
    "* testet einen gegebenen Satz von Daten darauf, ob er normal (gauß) verteilt ist (Nullhypothese)<br>\n",
    "* standardmäßig wird ein Signifikanzniveau (alpha-Wert) von 5% (0.05) gewählt\n",
    "* wenn der p-Wert des Testes größer als das Signifikanzniveau ist, wird die Nullhypothese akzeptiert "
   ]
  },
  {
   "cell_type": "code",
   "execution_count": 196,
   "metadata": {},
   "outputs": [
    {
     "data": {
      "text/markdown": [
       "p-Wert = 0.491"
      ],
      "text/plain": [
       "<IPython.core.display.Markdown object>"
      ]
     },
     "metadata": {},
     "output_type": "display_data"
    },
    {
     "data": {
      "text/markdown": [
       "Nullhypothese akzeptiert: Verteilung ist vermutlich normal verteilt"
      ],
      "text/plain": [
       "<IPython.core.display.Markdown object>"
      ]
     },
     "metadata": {},
     "output_type": "display_data"
    }
   ],
   "source": [
    "from scipy.stats import shapiro\n",
    "from IPython.display import display, Markdown, Latex\n",
    "\n",
    "stat, p = shapiro(Messdaten)\n",
    "display(Markdown('p-Wert = %.3f' % (p)))\n",
    "if p > 0.05:\n",
    "\tdisplay(Markdown('Nullhypothese akzeptiert: Verteilung ist vermutlich normal verteilt'))\n",
    "else:\n",
    "\tdisplay(Markdown('Alternativhypothese akzeptiert: Verteilung ist vermutlich **nicht** normal verteilt'))"
   ]
  },
  {
   "cell_type": "markdown",
   "metadata": {},
   "source": [
    "**Durchschnittlicher Fehler vs. Standardabweichung**\n",
    "* Durchschnittlicher Fehler beinhaltet den absolut Wert: $$\\overline{\\Delta t} = \\frac{1}{N} \\sum_{i=1}^N |t_i - \\bar{t}\\,|$$ \n",
    "* Standardabweichung beinhaltet die quadrierten Differenzen: $$\\sigma = \\sqrt{\\frac{1}{N-1} \\sum_{i=1}^N (t_i - \\bar{t}\\,)^2} $$\n",
    "\n",
    "<br><br>\n",
    "Die Standardabweichung bezieht insbesondere die Abweichung von Werten die weit vom Mittelwert entfernt sind mit ein. Ein Beispiel: <br>\n",
    "Zwei verschiedene Datensätze von Notenpunkte einiger Studenten: $$S_1 = \\{ 2, 2, 10, 10\\}$$ $$S_2 = \\{ 0, 4, 7, 13\\}$$ \n",
    "* Die Streuung der Datenpunkte im ersten Satz $S_1$ ist niedriger als im zweiten Satz $S_2$\n",
    "* Der Mittelwert von beiden Datensätzen ist µ = 6 \n",
    "Wenn wir nun den durschnittlichen Fehler beider Datensätze berechnen erhalten wir: \n",
    "$$\\overline{\\Delta S_1} = \\frac{1}{N} \\sum_{i=1}^N |s_{i,1} - \\bar{s_1}\\,| = \\frac{1}{4}\\cdot (|2-6|+|2-6|+|10-6|+|10-6|) = 4$$\n",
    "$$\\overline{\\Delta S_2} = \\frac{1}{N} \\sum_{i=1}^N |s_{i,2} - \\bar{s_2}\\,| = \\frac{1}{4}\\cdot (|0-6|+|4-6|+|7-6|+|13-6|) = 4$$\n",
    "Obwohl die Abweichungen unter einander in $S_2$ größer sind, zeigen beide Datensätze den selben durchschnittlichen Fehler!\n",
    "Bei der Standardabweichung hingegen erhalten wir: \n",
    "$$\\sigma_{S1} = \\sqrt{\\frac{1}{N-1} \\sum_{i=1}^N (s_{i,1} - \\bar{s_1}\\,)^2} = \\sqrt{\\frac{1}{3}\\cdot ((2-6)^2+(2-6)^2+(10-6)^2+(10-6)^2)} = 4.62 $$\n",
    "$$\\sigma_{S2} = \\sqrt{\\frac{1}{N-1} \\sum_{i=1}^N (s_{i,2} - \\bar{s_2}\\,)^2} = \\sqrt{\\frac{1}{3}\\cdot ((0-6)^2+(4-6)^2+(7-6)^2+(13-6)^2)} = 5.48 $$\n",
    "**In disem Fall sind die beiden Standardabweichungen unterschiedlich und der Wert für $S_2$ ist größer. Daher eignet sich die Standardabweichung im Allgemeinen besser um Streuung von Messdaten anzugeben!**"
   ]
  },
  {
   "cell_type": "markdown",
   "metadata": {},
   "source": [
    "**Wie verhält sich die Normalverteilung?**\n",
    "Rumspielen erwünscht!\n",
    "<br>\n",
    "* der Mean µ verschiebt den Mittelwert der Normalverteilung (grau gepunktete Linie, \n",
    "bei Datenmessungen soll dieser Wert möglichst nah an dem wahren Wert der Messung liegen => Korrektheit)\n",
    "* die Standardabweichung σ beschreibt die Breite der Verteilung\n",
    "* die 1σ Umgebung beinhält 68% aller Daten (rot gestrichelte Linien begrenzen diesen Bereich)\n",
    "* je größer σ desto größer ist das Werteintervall in dem sich der Großteil aller Daten befindet => die Messung ist ungenauer "
   ]
  },
  {
   "cell_type": "code",
   "execution_count": 187,
   "metadata": {},
   "outputs": [
    {
     "data": {
      "application/vnd.jupyter.widget-view+json": {
       "model_id": "e799fa08e5ce468a8e63ee006b82e642",
       "version_major": 2,
       "version_minor": 0
      },
      "text/plain": [
       "interactive(children=(IntSlider(value=0, description='µ', max=3), IntSlider(value=1, description='σ ', max=7, …"
      ]
     },
     "metadata": {},
     "output_type": "display_data"
    }
   ],
   "source": [
    "import ipywidgets as widgets\n",
    "from scipy.stats import norm\n",
    "import numpy as np\n",
    "import matplotlib.pyplot as plt\n",
    "%matplotlib inline\n",
    "\n",
    "def normal_distribution(mean, sigma):\n",
    "    fig, ax = plt.subplots()\n",
    "    x = np.linspace(-10+mean,10+mean,200)\n",
    "    data = norm.pdf(x, loc=mean, scale=sigma)\n",
    "    ax.plot(x, data)\n",
    "    ax.vlines(-sigma+mean, colors='red', linestyles='dashed' ,ymin=0, ymax=max(data))\n",
    "    ax.vlines(sigma+mean, colors='red', linestyles='dashed',ymin=0, ymax=max(data))\n",
    "    ax.axvspan(-sigma+mean, sigma+mean, alpha=0.2, color='red')\n",
    "    xabs_max = abs(max(ax.get_xlim(), key=abs))\n",
    "    ax.set_xlim(xmin=-xabs_max, xmax=xabs_max)\n",
    "    ax.vlines(mean, colors='gray', linestyles='dotted' ,ymin=0, ymax=max(data))\n",
    "    ax.set_xlabel()\n",
    "    plt.tight_layout()\n",
    "    plt.show()\n",
    "\n",
    "\n",
    "w = widgets.interactive(normal_distribution, mean=widgets.IntSlider(value=0,min=0,max=3,step=1,continuous_update=True, description='µ'), \n",
    "                    sigma=widgets.IntSlider(value=1,min=1,max=7,step=1,continuous_update=True,  description='σ'))\n",
    "display(w)\n"
   ]
  },
  {
   "cell_type": "markdown",
   "metadata": {},
   "source": [
    "**Gesetz der großen Zahlen**\n",
    "* relative Häufigkeit eines Zufallswertes stabilisiert sich um den theoretisch zu erwartenen Wert wenn eine Messung immer wieder unter identischen Bedingungen durchgeführt wird \n",
    "* Erhöhung der Anzahl der Datenpunkte lässt hier erkennen, das die theoretische Messung eine Normalverteilung abbildet \n",
    "* dies ist unabhängig von µ oder σ\n",
    "* bei geringer Anzahl der Datenpunkte können \"beliebige\" Verteilungen erkannt werden "
   ]
  },
  {
   "cell_type": "code",
   "execution_count": 188,
   "metadata": {},
   "outputs": [
    {
     "data": {
      "application/vnd.jupyter.widget-view+json": {
       "model_id": "aca8e4324d9940eb8f1354c2a5c30792",
       "version_major": 2,
       "version_minor": 0
      },
      "text/plain": [
       "interactive(children=(IntSlider(value=0, description='µ', max=3), IntSlider(value=1, description='σ', max=3, m…"
      ]
     },
     "metadata": {},
     "output_type": "display_data"
    }
   ],
   "source": [
    "def pull_values_from_normal_distribution(mean, sigma, nof):\n",
    "    fig, ax = plt.subplots()\n",
    "    r = norm.rvs(loc=mean, scale=sigma, size=nof)\n",
    "    ax.hist(r, bins=10)\n",
    "    ax.set_xlim((-5+mean-sigma,5+mean+sigma))\n",
    "    \n",
    "    # x = np.linspace(-5+mean-sigma,5+mean+sigma,200)\n",
    "    # data = norm.pdf(x, loc=mean, scale=sigma)\n",
    "    # ax.plot(x, data)\n",
    "    plt.tight_layout()\n",
    "    plt.show()\n",
    "\n",
    "\n",
    "w = widgets.interactive(pull_values_from_normal_distribution, mean=widgets.IntSlider(value=0,min=0,max=3,step=1,continuous_update=True, description='µ'), \n",
    "                    sigma=widgets.IntSlider(value=1,min=1,max=3,step=1,continuous_update=True, description='σ'),\n",
    "                    nof=widgets.IntSlider(value=2,min=2,max=200,step=5,continuous_update=True, \n",
    "                                          description='Anzahl der Datenpunkte',layout=widgets.Layout(width='40%'),\n",
    "                                          style= {'description_width': 'initial'}))\n",
    "display(w)"
   ]
  }
 ],
 "metadata": {
  "kernelspec": {
   "display_name": "Python 3.6.9 64-bit",
   "language": "python",
   "name": "python3"
  },
  "language_info": {
   "codemirror_mode": {
    "name": "ipython",
    "version": 3
   },
   "file_extension": ".py",
   "mimetype": "text/x-python",
   "name": "python",
   "nbconvert_exporter": "python",
   "pygments_lexer": "ipython3",
   "version": "3.6.9"
  },
  "orig_nbformat": 4,
  "vscode": {
   "interpreter": {
    "hash": "31f2aee4e71d21fbe5cf8b01ff0e069b9275f58929596ceb00d14d90e3e16cd6"
   }
  }
 },
 "nbformat": 4,
 "nbformat_minor": 2
}
